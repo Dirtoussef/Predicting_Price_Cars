{
 "cells": [
  {
   "cell_type": "markdown",
   "metadata": {},
   "source": [
    "# Predicting Car Prices Using Machine Learning"
   ]
  },
  {
   "cell_type": "markdown",
   "metadata": {},
   "source": [
    "# Contents\n",
    "\n",
    "* [Introduction](#Introduction)\n",
    "* [Scraping](#Scraping)\n",
    "* [Data](#Data)\n",
    "* [Statistiques](#Statistiques)\n",
    "* [MachingLearning](#MachingLearning)\n"
   ]
  },
  {
   "cell_type": "markdown",
   "metadata": {},
   "source": [
    "# Introduction\n",
    "\n",
    "This project focuses on predicting the prices of luxury and standard vehicles listed on AutoScout24, using machine learning models. The objective is to develop an efficient and reliable predictive model capable of estimating car prices with high accuracy, there by providing valuable insights for buyers, sellers, and enthusiasts in the automotive industry.\n",
    "\n",
    "The core concept is to determine a vehicle's value based on its characteristics, using a trained model that analyzes various brands and model competitors. This predicted price will then be compared with the actual price listed on AutoScout24. If the ratio is positive, it indicates that the model's predicted price is higher than the actual price on AutoScout24. In such cases, we can infer that the car is priced low given its characteristics.\"\n",
    "\n",
    "This revised version provides a clearer understanding of the project's aim, methodology, and the criteria for evaluating the success of your predictive model.\n",
    "\n",
    " \n",
    "\n",
    "\n"
   ]
  },
  {
   "cell_type": "markdown",
   "metadata": {},
   "source": [
    "# Scraping\n",
    "\n"
   ]
  },
  {
   "cell_type": "markdown",
   "metadata": {},
   "source": [
    "The `VehicleScraper.py` script is designed to extract detailed information about various vehicle models from [AutoScout24](https://www.autoscout24.be/fr/). It focuses on\n",
    " retrieving key data suchas the **brand**, **power**,**evaluation**,**name**,**version**, **mileage**, **fuel**,**type**,**transmission type**, **seller** . Users can µ\n",
    " select specific vehicle makes and models for data extraction.\n",
    "\n",
    "To initiate the scraping process, the application is launched using the command python `main.py`. The main.py script serves as the entry point for \n",
    "executing the VehicleScraper, orchestrating the data scraping and handling the user's choices for marque and model selection.\"\n",
    "\n",
    "![SEARCH](R/ech.PNG)\n",
    "\n",
    "\n",
    "\n",
    "\n",
    "\n",
    "\n",
    "\n",
    "\n",
    "\n",
    "\n",
    "\n",
    "\n",
    "\n",
    "\n",
    "\n",
    "\n",
    "\n",
    "\n",
    "\n",
    "\n",
    "\n"
   ]
  },
  {
   "cell_type": "markdown",
   "metadata": {},
   "source": [
    "\n",
    "## Data \n",
    "\n",
    "**Data Before Cleaning**"
   ]
  },
  {
   "cell_type": "markdown",
   "metadata": {},
   "source": [
    "| Modèle | Prix | Transmission | Version | Kilométrage | Carburant | Puissance | Évaluations | Vendeur | Nom de la Voiture | Date |\n",
    "|--------|------|--------------|---------|-------------|-----------|-----------|-------------|---------|-------------------|------|\n",
    "| Audi   | €74 999 | Boîte automatique | 55 TFSI Quattro Tiptronic S-Line INDIVIDUAL! | 34 000 km | Essence | 250 kW (340 CH) |  122  | Kristof D'herde • BE-9300 Aalst|Audi Q855 TFSI Quattro Tiptronic S-Line INDIVI  | 01/2021 |\n",
    "| Mercedes-benz | € 82 900|Boîte automatique|4.0 V8 BiTurbo Camera Memory glazen dak 213|21 300 km |Essence  340 kW (462 CH)|235|Wouter Klok • BE-3900 Overpelt|Mercedes-Benz AMG GT4.0 V8 BiTurbo| \tFerrari 812GTS 6.5 V12 F1|10/2016|\n",
    "|Fiat| € 13 800 |Boîte automatique|NAVIGATIE*DIGITALE-AIRCO*CRUISE-CONTROLE*LED|46 546 km  |Essence |70 kW (95 CH)|179 |Philip Uyttendaele • BE-9340 Lede|Fiat TipoNAVIGATIE*DIGITALE-AIRCO*CRUISE-CONTR...|10/2016|\n",
    "|toyota|€ 19 490|Boîte automatique|X envy|4 642 km|Essence |53 kW (72 CH)|2|Huseyin Mazibas • BE-1070 Anderlecht|Toyota Aygo XX envy|12/201_|\n"
   ]
  },
  {
   "cell_type": "markdown",
   "metadata": {},
   "source": [
    "We encountered missing values in the fields of **power**, **transmission**, and **evaluation**, which we opted to drop from our dataset. For the **power** attribute, we decided to only keep the measurement in horsepower (HP) and to remove the fields 'Name of the Vehicle', 'Version', and 'Seller'. Additionally, we transformed the 'Model', 'Fuel Type', and 'Transmission' into dummy variables to facilitate our analysis.\n",
    "\n",
    " **Types of Variables:**\n",
    "\n",
    "- **Price**, **Power**, **Evaluation**, **Mileage**: Float\n",
    "- **Brand**, **Model**, **Transmission**: Categorical"
   ]
  },
  {
   "cell_type": "markdown",
   "metadata": {},
   "source": [
    "## Statistiques "
   ]
  },
  {
   "cell_type": "markdown",
   "metadata": {},
   "source": [
    "**Matrice de Correlation**"
   ]
  },
  {
   "cell_type": "markdown",
   "metadata": {},
   "source": [
    "![search](R/corr.PNG)"
   ]
  },
  {
   "cell_type": "markdown",
   "metadata": {},
   "source": [
    "-Correlation Between **Price** and **Power** - **Power** and **Boite Automatique**.\n",
    "\n",
    "-Negative Correlation Between **Boite Automatique** and **Boite Manuelle** - **Boite Manuelle** and **Power** - **Essence** and **Diesel** \n",
    "\n"
   ]
  },
  {
   "cell_type": "markdown",
   "metadata": {},
   "source": [
    "**Comparative analysis of Variables**\n",
    "\n",
    "\n",
    "![search](R/vehiclecompare.png)"
   ]
  },
  {
   "cell_type": "markdown",
   "metadata": {},
   "source": [
    "## Maching Learning "
   ]
  },
  {
   "cell_type": "markdown",
   "metadata": {},
   "source": [
    "**Training and model evaluation**"
   ]
  },
  {
   "cell_type": "markdown",
   "metadata": {},
   "source": [
    "## Script Overview: `training.py`\n",
    "\n",
    "The `training.py` script is a key component of our machine learning pipeline and gridsearch best parametre . It interacts closely with `data.py` to perform several crucial tasks:\n",
    "\n",
    "1. **Data Cleaning and Preparation**: Initially, `training.py` relies on `data.py` to clean and prepare the dataset. This step involves handling missing values, feature engineering, and data normalization or transformation to make it suitable for model training.\n",
    "\n",
    "2. **Model Training**: Once the data is prepared, `training.py` proceeds to train different machine learning models. It explores a variety of algorithms to identify the model that performs best on our dataset.\n",
    "\n",
    "3. **Model Saving**: After training, the models are saved for future use. This is done using the `joblib` library, which efficiently serializes Python objects. Each model is saved in the format 'ModelName.joblib', where 'ModelName' represents the specific algorithm or version of the model.\n",
    "\n",
    "\n"
   ]
  },
  {
   "cell_type": "markdown",
   "metadata": {},
   "source": [
    "## Script Overview: `evaluation.py`\n",
    "\n",
    "The `evaluation.py` script plays a crucial role in our machine learning pipeline by evaluating the performance of various models. Here's how it functions:\n",
    "\n",
    "1. **Loading Models**: The script begins by loading the pre-trained models, saved as 'ModelName.joblib'. This step involves importing each model that was previously serialized using the `joblib` library.\n",
    "\n",
    "2. **Model Evaluation**: Once the models are loaded, `evaluation.py` systematically tests each one. It does this by applying the models to a designated test dataset and computing key performance metrics.\n",
    "\n",
    "3. **Performance Metrics**: For every model, the script calculates two critical metrics: \n",
    "   - **R-squared (R²)**: This metric indicates the proportion of the variance in the dependent variable that is predictable from the independent variables.\n",
    "   - **Root Mean Square Error (RMSE)**: RMSE measures the average magnitude of the errors between predicted values and actual values.\n",
    "\n",
    "By the end of this process, we have a comprehensive understanding of each model's performance, guided by R² and RMSE, enabling us to make informed decisions about which models are best suited for deployment.\n"
   ]
  },
  {
   "cell_type": "markdown",
   "metadata": {},
   "source": [
    "## Tableau des Modèles\n",
    "\n",
    "| Modèle          | RMSE        | R2       |Best Parametre|\n",
    "|-----------------|-------------|----------|--------------|\n",
    "| Linéaire        | 49113.33036 | 0.6846197|               |\n",
    "| Forêt Aléatoire | 301.18096   | 0.9999881|max_depth: 30, min_samples_split: 2, n_estimators: 200|\n",
    "| Boosting        | 67.38589    | 0.9999994|_learning_rate: 0.2, max_depth: 5, min_samples_split: 2 ,n_estimators: 200|\n",
    "| **KNN**         | **13.91941**| **1.0000000**|n_neighbors': 25 ,weights: distance|\n",
    "| MLP             | 15910.26324 | 0.9669029|mlp__alpha: 0.01 , mlp__hidden_layer_sizes: (50, 50, 50)|\n",
    "| Lasso           | 49034.38591 | 0.6856328| lasso__alpha: 10              |\n",
    "| SVM             | 73757.81567 | 0.2887015|svm: 10 , svm__gamma: scal,  svm__kernel: linear|\n",
    "\n",
    "**KNN est le meilleur modèle.**"
   ]
  },
  {
   "cell_type": "markdown",
   "metadata": {},
   "source": [
    "**RMSE Models**"
   ]
  },
  {
   "cell_type": "markdown",
   "metadata": {},
   "source": [
    "![search](R/modeles.png)"
   ]
  },
  {
   "cell_type": "markdown",
   "metadata": {},
   "source": [
    "## R² Values of Models"
   ]
  },
  {
   "cell_type": "markdown",
   "metadata": {},
   "source": [
    "![search](R/R2.png)"
   ]
  },
  {
   "cell_type": "markdown",
   "metadata": {},
   "source": []
  },
  {
   "cell_type": "markdown",
   "metadata": {},
   "source": []
  }
 ],
 "metadata": {
  "kernelspec": {
   "display_name": "Python 3",
   "language": "python",
   "name": "python3"
  },
  "language_info": {
   "codemirror_mode": {
    "name": "ipython",
    "version": 3
   },
   "file_extension": ".py",
   "mimetype": "text/x-python",
   "name": "python",
   "nbconvert_exporter": "python",
   "pygments_lexer": "ipython3",
   "version": "3.11.7"
  }
 },
 "nbformat": 4,
 "nbformat_minor": 2
}
